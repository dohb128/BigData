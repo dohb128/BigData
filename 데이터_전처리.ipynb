{
  "nbformat": 4,
  "nbformat_minor": 0,
  "metadata": {
    "colab": {
      "provenance": [],
      "authorship_tag": "ABX9TyO7mqRBbynMGpEeGdDPTQBc",
      "include_colab_link": true
    },
    "kernelspec": {
      "name": "python3",
      "display_name": "Python 3"
    },
    "language_info": {
      "name": "python"
    }
  },
  "cells": [
    {
      "cell_type": "markdown",
      "metadata": {
        "id": "view-in-github",
        "colab_type": "text"
      },
      "source": [
        "<a href=\"https://colab.research.google.com/github/dohb128/BigData/blob/main/%EB%8D%B0%EC%9D%B4%ED%84%B0_%EC%A0%84%EC%B2%98%EB%A6%AC.ipynb\" target=\"_parent\"><img src=\"https://colab.research.google.com/assets/colab-badge.svg\" alt=\"Open In Colab\"/></a>"
      ]
    },
    {
      "cell_type": "markdown",
      "source": [
        "# **데이터 수집**"
      ],
      "metadata": {
        "id": "St0yzqpkprCj"
      }
    },
    {
      "cell_type": "code",
      "execution_count": null,
      "metadata": {
        "id": "zN8O8pgWppvz"
      },
      "outputs": [],
      "source": [
        "import os\n",
        "import sys\n",
        "import urllib.request\n",
        "import datetime\n",
        "import time\n",
        "import json\n",
        "import urllib.parse\n",
        "\n",
        "client_id = 'pzhBfPcGK6NuBiQrGHuM'\n",
        "client_secret = 'EN7jUsuFHZ'\n",
        "\n",
        "def getRequestUrl(url):\n",
        "    req = urllib.request.Request(url)\n",
        "    req.add_header(\"X-Naver-Client-Id\", client_id)\n",
        "    req.add_header(\"X-Naver-Client-Secret\", client_secret)\n",
        "\n",
        "    try:\n",
        "        response = urllib.request.urlopen(req)\n",
        "        if response.getcode() == 200:\n",
        "            print(\"[%s] Url Request Success\" % datetime.datetime.now())\n",
        "            return response.read().decode('utf-8')\n",
        "    except Exception as e:\n",
        "        print(e)\n",
        "        print(\"[%s] Error for URL: %s\" % (datetime.datetime.now(), url))\n",
        "        return None\n",
        "\n",
        "def getNaverSearch(node, srcText, start, display):\n",
        "    base = \"https://openapi.naver.com/v1/search\"\n",
        "    node = \"/%s.json\" % node\n",
        "    parameters = \"?query=%s&start=%s&display=%s\" % (urllib.parse.quote(srcText), start, display)\n",
        "\n",
        "    url = base + node + parameters\n",
        "    responseDecode = getRequestUrl(url)\n",
        "\n",
        "    if responseDecode is None:\n",
        "        return None\n",
        "    else:\n",
        "        return json.loads(responseDecode)\n",
        "\n",
        "def getPostData(post, jsonResult, cnt):\n",
        "    title = post['title']\n",
        "    description = post['description']\n",
        "    org_link = post['originallink']\n",
        "    link = post['link']\n",
        "\n",
        "    pDate = datetime.datetime.strptime(post['pubDate'], '%a, %d %b %Y %H:%M:%S +0900')\n",
        "    pDate = pDate.strftime('%Y-%m-%d %H:%M:%S')\n",
        "\n",
        "    jsonResult.append({'cnt': cnt, 'title': title, 'description': description, 'org_link': org_link, 'link': link, 'pDate': pDate})\n",
        "    return\n",
        "\n",
        "def main():\n",
        "    node = 'news'\n",
        "    player_names = [\n",
        "        '노시환', '홍창기', '오스틴', '최정', '서진용', '구자욱', '박영현', '손아섭', '알칸타라',\n",
        "        '페디', '고영표', '뷰캐넌', '후라도', '김혜성', '쿠에바스', '정수빈'\n",
        "    ]\n",
        "    cnt = 0\n",
        "    jsonResult = []\n",
        "\n",
        "    for player in player_names:\n",
        "        srcText = player + ' KBO MVP'  # 각 선수 이름과 'KBO MVP'를 조합\n",
        "        start = 1  # 검색 결과의 시작 위치\n",
        "\n",
        "        while True:\n",
        "            jsonResponse = getNaverSearch(node, srcText, start, 100)\n",
        "\n",
        "            if jsonResponse is None:\n",
        "                print(\"검색 결과가 없거나 오류가 발생했습니다.\")\n",
        "                break\n",
        "\n",
        "            total = jsonResponse['total']\n",
        "\n",
        "            for post in jsonResponse['items']:\n",
        "                pDate = datetime.datetime.strptime(post['pubDate'], '%a, %d %b %Y %H:%M:%S +0900')\n",
        "                # 2023년에 해당하는 결과만 가져옴\n",
        "                if pDate.year == 2023 and 3 <= pDate.month <= 11:   # 23년 3월부터 11월까지의 기사 수집\n",
        "                    cnt += 1\n",
        "                    getPostData(post, jsonResult, cnt)\n",
        "\n",
        "            start += 100  # 다음 페이지 검색 시작 위치\n",
        "\n",
        "            if start > total:\n",
        "                break  # 모든 검색 결과를 가져온 경우 종료\n",
        "\n",
        "    print('전체 검색 : %d 건' % total)\n",
        "\n",
        "    with open('KBO_MVP_후보_naver_%s.json' % node, 'w', encoding='utf8') as outfile:\n",
        "        jsonFile = json.dumps(jsonResult, indent=4, sort_keys=True, ensure_ascii=False)\n",
        "        outfile.write(jsonFile)\n",
        "\n",
        "    print(\"가져온 데이터 : %d 건\" % (cnt))\n",
        "    print('KBO_MVP_후보_naver_%s.json SAVED' % node)\n",
        "\n",
        "if __name__ == '__main__':\n",
        "    main()\n",
        "\n"
      ]
    }
  ]
}