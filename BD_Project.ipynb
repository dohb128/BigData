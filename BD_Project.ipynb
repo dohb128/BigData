{
  "nbformat": 4,
  "nbformat_minor": 0,
  "metadata": {
    "colab": {
      "provenance": [],
      "include_colab_link": true
    },
    "kernelspec": {
      "name": "python3",
      "display_name": "Python 3"
    },
    "language_info": {
      "name": "python"
    }
  },
  "cells": [
    {
      "cell_type": "markdown",
      "metadata": {
        "id": "view-in-github",
        "colab_type": "text"
      },
      "source": [
        "<a href=\"https://colab.research.google.com/github/dohb128/BigData/blob/main/BD_Project.ipynb\" target=\"_parent\"><img src=\"https://colab.research.google.com/assets/colab-badge.svg\" alt=\"Open In Colab\"/></a>"
      ]
    },
    {
      "cell_type": "markdown",
      "source": [
        "네이버 오픈 API 연결"
      ],
      "metadata": {
        "id": "oj2Ak_-7g_cs"
      }
    },
    {
      "cell_type": "code",
      "source": [
        "import os\n",
        "import sys\n",
        "import urllib.request\n",
        "import datetime\n",
        "import time\n",
        "import json\n",
        "import urllib.parse\n",
        "\n",
        "client_id = 'pzhBfPcGK6NuBiQrGHuM'\n",
        "client_secret = 'EN7jUsuFHZ'\n",
        "\n",
        "def getRequestUrl(url):\n",
        "    req = urllib.request.Request(url)\n",
        "    req.add_header(\"X-Naver-Client-Id\", client_id)\n",
        "    req.add_header(\"X-Naver-Client-Secret\", client_secret)\n",
        "\n",
        "    try:\n",
        "        response = urllib.request.urlopen(req)\n",
        "        if response.getcode() == 200:\n",
        "            print(\"[%s] Url Request Success\" % datetime.datetime.now())\n",
        "            return response.read().decode('utf-8')\n",
        "    except Exception as e:\n",
        "        print(e)\n",
        "        print(\"[%s] Error for URL: %s\" % (datetime.datetime.now(), url))\n",
        "        return None\n",
        "\n",
        "def getNaverSearch(node, srcText, start, display):\n",
        "    base = \"https://openapi.naver.com/v1/search\"\n",
        "    node = \"/%s.json\" % node\n",
        "    parameters = \"?query=%s&start=%s&display=%s\" % (urllib.parse.quote(srcText), start, display)\n",
        "\n",
        "    url = base + node + parameters\n",
        "    responseDecode = getRequestUrl(url)\n",
        "\n",
        "    if responseDecode is None:\n",
        "        return None\n",
        "    else:\n",
        "        return json.loads(responseDecode)\n",
        "\n",
        "def getPostData(post, jsonResult, cnt):\n",
        "    title = post['title']\n",
        "    description = post['description']\n",
        "    org_link = post['originallink']\n",
        "    link = post['link']\n",
        "\n",
        "    pDate = datetime.datetime.strptime(post['pubDate'], '%a, %d %b %Y %H:%M:%S +0900')\n",
        "    pDate = pDate.strftime('%Y-%m-%d %H:%M:%S')\n",
        "\n",
        "    jsonResult.append({'cnt': cnt, 'title': title, 'description': description, 'org_link': org_link, 'link': link, 'pDate': pDate})\n",
        "    return\n",
        "\n",
        "def main():\n",
        "    node = 'news'\n",
        "    player_names = [\n",
        "        '노시환', '홍창기', '오스틴', '최정', '서진용', '구자욱', '박영현', '손아섭', '알칸타라',\n",
        "        '페디', '고영표', '뷰캐넌', '후라도', '김혜성', '쿠에바스', '정수빈'\n",
        "    ]\n",
        "    cnt = 0\n",
        "    jsonResult = []\n",
        "\n",
        "    for player in player_names:\n",
        "        srcText = player + ' KBO MVP'  # 각 선수 이름과 'KBO MVP'를 조합\n",
        "        start = 1  # 검색 결과의 시작 위치\n",
        "\n",
        "        while True:\n",
        "            jsonResponse = getNaverSearch(node, srcText, start, 100)\n",
        "\n",
        "            if jsonResponse is None:\n",
        "                print(\"검색 결과가 없거나 오류가 발생했습니다.\")\n",
        "                break\n",
        "\n",
        "            total = jsonResponse['total']\n",
        "\n",
        "            for post in jsonResponse['items']:\n",
        "                pDate = datetime.datetime.strptime(post['pubDate'], '%a, %d %b %Y %H:%M:%S +0900')\n",
        "                # 2023년에 해당하는 결과만 가져옴\n",
        "                if pDate.year == 2023 and 3 <= pDate.month <= 11:   # 23년 3월부터 11월까지의 기사 수집\n",
        "                    cnt += 1\n",
        "                    getPostData(post, jsonResult, cnt)\n",
        "\n",
        "            start += 100  # 다음 페이지 검색 시작 위치\n",
        "\n",
        "            if start > total:\n",
        "                break  # 모든 검색 결과를 가져온 경우 종료\n",
        "\n",
        "    print('전체 검색 : %d 건' % total)\n",
        "\n",
        "    with open('KBO_MVP_후보_naver_%s.json' % node, 'w', encoding='utf8') as outfile:\n",
        "        jsonFile = json.dumps(jsonResult, indent=4, sort_keys=True, ensure_ascii=False)\n",
        "        outfile.write(jsonFile)\n",
        "\n",
        "    print(\"가져온 데이터 : %d 건\" % (cnt))\n",
        "    print('KBO_MVP_후보_naver_%s.json SAVED' % node)\n",
        "\n",
        "if __name__ == '__main__':\n",
        "    main()\n",
        "\n"
      ],
      "metadata": {
        "colab": {
          "base_uri": "https://localhost:8080/"
        },
        "id": "_B_cIKPMhQ3q",
        "outputId": "c8de2837-7ba9-455b-c92c-078c5c48323a"
      },
      "execution_count": 1,
      "outputs": [
        {
          "output_type": "stream",
          "name": "stdout",
          "text": [
            "[2023-11-27 02:45:25.531518] Url Request Success\n",
            "[2023-11-27 02:45:26.533660] Url Request Success\n",
            "[2023-11-27 02:45:27.505156] Url Request Success\n",
            "[2023-11-27 02:45:28.499152] Url Request Success\n",
            "[2023-11-27 02:45:29.476846] Url Request Success\n",
            "[2023-11-27 02:45:30.482664] Url Request Success\n",
            "[2023-11-27 02:45:31.451023] Url Request Success\n",
            "[2023-11-27 02:45:32.427811] Url Request Success\n",
            "[2023-11-27 02:45:33.408404] Url Request Success\n",
            "[2023-11-27 02:45:34.182843] Url Request Success\n",
            "[2023-11-27 02:45:34.998606] Url Request Success\n",
            "[2023-11-27 02:45:35.972253] Url Request Success\n",
            "[2023-11-27 02:45:36.945607] Url Request Success\n",
            "[2023-11-27 02:45:37.927162] Url Request Success\n",
            "[2023-11-27 02:45:38.896810] Url Request Success\n",
            "[2023-11-27 02:45:39.873509] Url Request Success\n",
            "[2023-11-27 02:45:40.879548] Url Request Success\n",
            "[2023-11-27 02:45:41.835452] Url Request Success\n",
            "[2023-11-27 02:45:42.861233] Url Request Success\n",
            "[2023-11-27 02:45:43.808438] Url Request Success\n",
            "[2023-11-27 02:45:44.636850] Url Request Success\n",
            "[2023-11-27 02:45:45.647243] Url Request Success\n",
            "[2023-11-27 02:45:46.633420] Url Request Success\n",
            "[2023-11-27 02:45:47.598624] Url Request Success\n",
            "[2023-11-27 02:45:48.556822] Url Request Success\n",
            "[2023-11-27 02:45:49.555186] Url Request Success\n",
            "[2023-11-27 02:45:50.498847] Url Request Success\n",
            "[2023-11-27 02:45:51.606844] Url Request Success\n",
            "[2023-11-27 02:45:52.586341] Url Request Success\n",
            "[2023-11-27 02:45:53.555640] Url Request Success\n",
            "[2023-11-27 02:45:54.533028] Url Request Success\n",
            "[2023-11-27 02:45:55.720141] Url Request Success\n",
            "[2023-11-27 02:45:56.686459] Url Request Success\n",
            "[2023-11-27 02:45:57.664668] Url Request Success\n",
            "HTTP Error 400: Bad Request\n",
            "[2023-11-27 02:45:58.418987] Error for URL: https://openapi.naver.com/v1/search/news.json?query=%EC%B5%9C%EC%A0%95%20KBO%20MVP&start=1001&display=100\n",
            "검색 결과가 없거나 오류가 발생했습니다.\n",
            "[2023-11-27 02:45:59.231962] Url Request Success\n",
            "[2023-11-27 02:46:00.168460] Url Request Success\n",
            "[2023-11-27 02:46:01.125613] Url Request Success\n",
            "[2023-11-27 02:46:02.068286] Url Request Success\n",
            "[2023-11-27 02:46:03.004427] Url Request Success\n",
            "[2023-11-27 02:46:03.806685] Url Request Success\n",
            "[2023-11-27 02:46:04.829209] Url Request Success\n",
            "[2023-11-27 02:46:05.785924] Url Request Success\n",
            "[2023-11-27 02:46:06.749936] Url Request Success\n",
            "[2023-11-27 02:46:07.718946] Url Request Success\n",
            "[2023-11-27 02:46:08.685302] Url Request Success\n",
            "[2023-11-27 02:46:09.626199] Url Request Success\n",
            "[2023-11-27 02:46:10.591895] Url Request Success\n",
            "[2023-11-27 02:46:11.575225] Url Request Success\n",
            "[2023-11-27 02:46:12.528164] Url Request Success\n",
            "HTTP Error 400: Bad Request\n",
            "[2023-11-27 02:46:13.269555] Error for URL: https://openapi.naver.com/v1/search/news.json?query=%EA%B5%AC%EC%9E%90%EC%9A%B1%20KBO%20MVP&start=1001&display=100\n",
            "검색 결과가 없거나 오류가 발생했습니다.\n",
            "[2023-11-27 02:46:14.106010] Url Request Success\n",
            "[2023-11-27 02:46:15.077148] Url Request Success\n",
            "[2023-11-27 02:46:16.026264] Url Request Success\n",
            "[2023-11-27 02:46:16.981977] Url Request Success\n",
            "[2023-11-27 02:46:17.938388] Url Request Success\n",
            "[2023-11-27 02:46:18.900182] Url Request Success\n",
            "[2023-11-27 02:46:19.862148] Url Request Success\n",
            "[2023-11-27 02:46:20.874977] Url Request Success\n",
            "[2023-11-27 02:46:21.847354] Url Request Success\n",
            "[2023-11-27 02:46:22.843991] Url Request Success\n",
            "[2023-11-27 02:46:23.844577] Url Request Success\n",
            "[2023-11-27 02:46:24.882395] Url Request Success\n",
            "[2023-11-27 02:46:25.867528] Url Request Success\n",
            "[2023-11-27 02:46:26.852141] Url Request Success\n",
            "[2023-11-27 02:46:27.835511] Url Request Success\n",
            "[2023-11-27 02:46:28.799455] Url Request Success\n",
            "HTTP Error 400: Bad Request\n",
            "[2023-11-27 02:46:29.561071] Error for URL: https://openapi.naver.com/v1/search/news.json?query=%EC%86%90%EC%95%84%EC%84%AD%20KBO%20MVP&start=1001&display=100\n",
            "검색 결과가 없거나 오류가 발생했습니다.\n",
            "[2023-11-27 02:46:30.376991] Url Request Success\n",
            "[2023-11-27 02:46:31.389369] Url Request Success\n",
            "[2023-11-27 02:46:32.385481] Url Request Success\n",
            "[2023-11-27 02:46:33.334956] Url Request Success\n",
            "[2023-11-27 02:46:34.324946] Url Request Success\n",
            "[2023-11-27 02:46:35.302085] Url Request Success\n",
            "[2023-11-27 02:46:36.272546] Url Request Success\n",
            "[2023-11-27 02:46:37.242550] Url Request Success\n",
            "[2023-11-27 02:46:38.222528] Url Request Success\n",
            "[2023-11-27 02:46:39.190692] Url Request Success\n",
            "HTTP Error 400: Bad Request\n",
            "[2023-11-27 02:46:39.951449] Error for URL: https://openapi.naver.com/v1/search/news.json?query=%EC%95%8C%EC%B9%B8%ED%83%80%EB%9D%BC%20KBO%20MVP&start=1001&display=100\n",
            "검색 결과가 없거나 오류가 발생했습니다.\n",
            "[2023-11-27 02:46:40.769491] Url Request Success\n",
            "[2023-11-27 02:46:41.721554] Url Request Success\n",
            "[2023-11-27 02:46:42.693563] Url Request Success\n",
            "[2023-11-27 02:46:43.654011] Url Request Success\n",
            "[2023-11-27 02:46:44.657190] Url Request Success\n",
            "[2023-11-27 02:46:45.603905] Url Request Success\n",
            "[2023-11-27 02:46:46.569234] Url Request Success\n",
            "[2023-11-27 02:46:47.554626] Url Request Success\n",
            "[2023-11-27 02:46:48.574843] Url Request Success\n",
            "[2023-11-27 02:46:49.529054] Url Request Success\n",
            "[2023-11-27 02:46:50.355500] Url Request Success\n",
            "[2023-11-27 02:46:51.321104] Url Request Success\n",
            "[2023-11-27 02:46:52.293997] Url Request Success\n",
            "[2023-11-27 02:46:53.248174] Url Request Success\n",
            "[2023-11-27 02:46:54.205541] Url Request Success\n",
            "[2023-11-27 02:46:55.190198] Url Request Success\n",
            "[2023-11-27 02:46:56.184827] Url Request Success\n",
            "[2023-11-27 02:46:57.160840] Url Request Success\n",
            "[2023-11-27 02:46:58.108454] Url Request Success\n",
            "[2023-11-27 02:46:59.048850] Url Request Success\n",
            "[2023-11-27 02:47:00.008106] Url Request Success\n",
            "[2023-11-27 02:47:01.015809] Url Request Success\n",
            "[2023-11-27 02:47:01.978721] Url Request Success\n",
            "[2023-11-27 02:47:02.981799] Url Request Success\n",
            "[2023-11-27 02:47:03.960454] Url Request Success\n",
            "[2023-11-27 02:47:04.919206] Url Request Success\n",
            "[2023-11-27 02:47:05.900893] Url Request Success\n",
            "[2023-11-27 02:47:06.751661] Url Request Success\n",
            "[2023-11-27 02:47:07.532277] Url Request Success\n",
            "[2023-11-27 02:47:08.338639] Url Request Success\n",
            "[2023-11-27 02:47:09.325235] Url Request Success\n",
            "[2023-11-27 02:47:10.308925] Url Request Success\n",
            "[2023-11-27 02:47:11.296509] Url Request Success\n",
            "[2023-11-27 02:47:12.260460] Url Request Success\n",
            "[2023-11-27 02:47:13.289276] Url Request Success\n",
            "[2023-11-27 02:47:14.238919] Url Request Success\n",
            "[2023-11-27 02:47:15.221571] Url Request Success\n",
            "[2023-11-27 02:47:16.186360] Url Request Success\n",
            "[2023-11-27 02:47:17.149706] Url Request Success\n",
            "HTTP Error 400: Bad Request\n",
            "[2023-11-27 02:47:17.899569] Error for URL: https://openapi.naver.com/v1/search/news.json?query=%EA%B9%80%ED%98%9C%EC%84%B1%20KBO%20MVP&start=1001&display=100\n",
            "검색 결과가 없거나 오류가 발생했습니다.\n",
            "[2023-11-27 02:47:18.794778] Url Request Success\n",
            "[2023-11-27 02:47:19.757290] Url Request Success\n",
            "[2023-11-27 02:47:20.722163] Url Request Success\n",
            "[2023-11-27 02:47:21.692973] Url Request Success\n",
            "[2023-11-27 02:47:22.667794] Url Request Success\n",
            "[2023-11-27 02:47:23.658435] Url Request Success\n",
            "[2023-11-27 02:47:24.665811] Url Request Success\n",
            "[2023-11-27 02:47:25.665761] Url Request Success\n",
            "[2023-11-27 02:47:26.695904] Url Request Success\n",
            "[2023-11-27 02:47:27.706009] Url Request Success\n",
            "[2023-11-27 02:47:28.643678] Url Request Success\n",
            "[2023-11-27 02:47:29.596348] Url Request Success\n",
            "[2023-11-27 02:47:30.555862] Url Request Success\n",
            "[2023-11-27 02:47:31.500662] Url Request Success\n",
            "[2023-11-27 02:47:32.475421] Url Request Success\n",
            "[2023-11-27 02:47:33.431103] Url Request Success\n",
            "[2023-11-27 02:47:34.405826] Url Request Success\n",
            "[2023-11-27 02:47:35.447804] Url Request Success\n",
            "[2023-11-27 02:47:36.434841] Url Request Success\n",
            "[2023-11-27 02:47:37.398894] Url Request Success\n",
            "HTTP Error 400: Bad Request\n",
            "[2023-11-27 02:47:38.183618] Error for URL: https://openapi.naver.com/v1/search/news.json?query=%EC%A0%95%EC%88%98%EB%B9%88%20KBO%20MVP&start=1001&display=100\n",
            "검색 결과가 없거나 오류가 발생했습니다.\n",
            "전체 검색 : 1735 건\n",
            "가져온 데이터 : 6160 건\n",
            "KBO_MVP_후보_naver_news.json SAVED\n"
          ]
        }
      ]
    },
    {
      "cell_type": "markdown",
      "source": [
        "월별 선수 언급 기사 카운트"
      ],
      "metadata": {
        "id": "B-YXD8wwx4ir"
      }
    },
    {
      "cell_type": "code",
      "source": [
        "import json\n",
        "from collections import defaultdict\n",
        "from datetime import datetime\n",
        "\n",
        "# json 파일 읽기\n",
        "with open('KBO_MVP_후보_naver_news.json', 'r', encoding='utf8') as file:\n",
        "    data = json.load(file)\n",
        "\n",
        "# 선수 이름별, 월별로 기사 개수를 저장하는 딕셔너리\n",
        "article_count = defaultdict(lambda: defaultdict(int))\n",
        "player_names = [\n",
        "        '노시환', '홍창기', '오스틴', '최정', '서진용', '구자욱', '박영현', '손아섭', '알칸타라',\n",
        "        '페디', '고영표', '뷰캐넌', '후라도', '김혜성', '쿠에바스', '정수빈'\n",
        "    ]\n",
        "\n",
        "for item in data:\n",
        "    title = item['title']\n",
        "    # 기사의 발행일로부터 월을 추출\n",
        "    month = datetime.strptime(item['pDate'], '%Y-%m-%d %H:%M:%S').month\n",
        "    for player in player_names:\n",
        "        # 기사 제목에 선수 이름이 포함되어 있다면 카운트\n",
        "        if player in title:\n",
        "            article_count[player][month] += 1\n",
        "\n",
        "# 선수별, 월별 기사 개수를 출력\n",
        "for player, counts in article_count.items():\n",
        "    print(f\"{player}:\")\n",
        "    for month, count in sorted(counts.items()):\n",
        "        print(f\"  {month}월: {count}건\")\n"
      ],
      "metadata": {
        "colab": {
          "base_uri": "https://localhost:8080/"
        },
        "id": "XedoRfbOw55a",
        "outputId": "4bd2afeb-7de9-433c-9190-5a831b595c04"
      },
      "execution_count": 2,
      "outputs": [
        {
          "output_type": "stream",
          "name": "stdout",
          "text": [
            "페디:\n",
            "  4월: 1건\n",
            "  5월: 96건\n",
            "  6월: 2건\n",
            "  7월: 6건\n",
            "  8월: 36건\n",
            "  9월: 104건\n",
            "  10월: 881건\n",
            "  11월: 342건\n",
            "노시환:\n",
            "  3월: 7건\n",
            "  4월: 1건\n",
            "  5월: 1건\n",
            "  6월: 5건\n",
            "  7월: 71건\n",
            "  8월: 217건\n",
            "  9월: 112건\n",
            "  10월: 484건\n",
            "  11월: 178건\n",
            "홍창기:\n",
            "  5월: 2건\n",
            "  6월: 6건\n",
            "  8월: 3건\n",
            "  9월: 38건\n",
            "  10월: 71건\n",
            "  11월: 30건\n",
            "고영표:\n",
            "  7월: 1건\n",
            "  8월: 62건\n",
            "  9월: 10건\n",
            "  11월: 113건\n",
            "김혜성:\n",
            "  3월: 1건\n",
            "  5월: 3건\n",
            "  6월: 1건\n",
            "  10월: 8건\n",
            "  11월: 8건\n",
            "최정:\n",
            "  3월: 2건\n",
            "  4월: 1건\n",
            "  5월: 6건\n",
            "  6월: 33건\n",
            "  7월: 203건\n",
            "  8월: 21건\n",
            "  10월: 21건\n",
            "  11월: 8건\n",
            "오스틴:\n",
            "  3월: 1건\n",
            "  9월: 2건\n",
            "  10월: 4건\n",
            "  11월: 8건\n",
            "구자욱:\n",
            "  4월: 4건\n",
            "  6월: 1건\n",
            "  7월: 1건\n",
            "  8월: 7건\n",
            "  9월: 47건\n",
            "  10월: 16건\n",
            "  11월: 2건\n",
            "뷰캐넌:\n",
            "  7월: 31건\n",
            "  10월: 29건\n",
            "손아섭:\n",
            "  3월: 1건\n",
            "  5월: 7건\n",
            "  6월: 7건\n",
            "  7월: 3건\n",
            "  10월: 34건\n",
            "  11월: 2건\n",
            "쿠에바스:\n",
            "  8월: 2건\n",
            "  9월: 224건\n",
            "  10월: 18건\n",
            "  11월: 61건\n",
            "박영현:\n",
            "  7월: 4건\n",
            "  9월: 38건\n",
            "  10월: 13건\n",
            "  11월: 22건\n",
            "정수빈:\n",
            "  5월: 2건\n",
            "  6월: 1건\n",
            "  7월: 4건\n",
            "  8월: 3건\n",
            "  10월: 1건\n",
            "서진용:\n",
            "  5월: 24건\n",
            "  6월: 18건\n",
            "  7월: 1건\n",
            "  8월: 1건\n",
            "  10월: 4건\n",
            "  11월: 5건\n",
            "알칸타라:\n",
            "  3월: 2건\n",
            "  5월: 2건\n",
            "  7월: 1건\n",
            "  10월: 2건\n",
            "후라도:\n",
            "  9월: 3건\n"
          ]
        }
      ]
    },
    {
      "cell_type": "code",
      "source": [
        "import json\n",
        "from collections import defaultdict\n",
        "from datetime import datetime\n",
        "\n",
        "\n",
        "\n",
        "# json 파일 읽기\n",
        "with open('KBO_MVP_후보_naver_news.json', 'r', encoding='utf8') as file:\n",
        "    data = json.load(file)\n",
        "\n",
        "# 선수 이름별, 월별로 기사 개수를 저장하는 딕셔너리\n",
        "article_count = defaultdict(lambda: defaultdict(int))\n",
        "\n",
        "for item in data:\n",
        "    title = item['title']\n",
        "    # 기사의 발행일로부터 월을 추출\n",
        "    month = datetime.strptime(item['pDate'], '%Y-%m-%d %H:%M:%S').month\n",
        "    player_names = [\n",
        "        '노시환', '홍창기', '오스틴', '최정', '서진용', '구자욱', '박영현', '손아섭', '알칸타라',\n",
        "        '페디', '고영표', '뷰캐넌', '후라도', '김혜성', '쿠에바스', '정수빈'\n",
        "    ]\n",
        "\n",
        "    for player in player_names:\n",
        "        # 기사 제목에 선수 이름이 포함되어 있다면 카운트\n",
        "        if player in title:\n",
        "            article_count[player][month] += 1\n",
        "\n",
        "# 결과를 json 파일로 저장\n",
        "with open('player_mentions.json', 'w', encoding='utf8') as file:\n",
        "    json.dump(article_count, file, ensure_ascii=False, indent=4)\n",
        "\n",
        "print('선수 이름별, 월별 기사 언급 횟수가 player_mentions.json 파일에 저장되었습니다.')\n"
      ],
      "metadata": {
        "colab": {
          "base_uri": "https://localhost:8080/"
        },
        "id": "Wa2OWA5lJciS",
        "outputId": "16eac9e8-305c-46df-eb1f-74b01491ba00"
      },
      "execution_count": 3,
      "outputs": [
        {
          "output_type": "stream",
          "name": "stdout",
          "text": [
            "선수 이름별, 월별 기사 언급 횟수가 player_mentions.json 파일에 저장되었습니다.\n"
          ]
        }
      ]
    },
    {
      "cell_type": "markdown",
      "source": [
        "한글 폰트 설정"
      ],
      "metadata": {
        "id": "ktaHffTntT7m"
      }
    },
    {
      "cell_type": "code",
      "source": [
        "!sudo apt-get install -y fonts-nanum\n",
        "!sudo fc-cache -fv\n",
        "!rm ~/.cache/matplotlib -rf"
      ],
      "metadata": {
        "colab": {
          "base_uri": "https://localhost:8080/"
        },
        "id": "1Dj4gMJPtV_S",
        "outputId": "c8c0cbc3-abdf-4b76-ad2b-a4c90d9419a5"
      },
      "execution_count": 1,
      "outputs": [
        {
          "output_type": "stream",
          "name": "stdout",
          "text": [
            "Reading package lists... Done\n",
            "Building dependency tree... Done\n",
            "Reading state information... Done\n",
            "fonts-nanum is already the newest version (20200506-1).\n",
            "0 upgraded, 0 newly installed, 0 to remove and 10 not upgraded.\n",
            "/usr/share/fonts: caching, new cache contents: 0 fonts, 1 dirs\n",
            "/usr/share/fonts/truetype: caching, new cache contents: 0 fonts, 3 dirs\n",
            "/usr/share/fonts/truetype/humor-sans: caching, new cache contents: 1 fonts, 0 dirs\n",
            "/usr/share/fonts/truetype/liberation: caching, new cache contents: 16 fonts, 0 dirs\n",
            "/usr/share/fonts/truetype/nanum: caching, new cache contents: 12 fonts, 0 dirs\n",
            "/usr/local/share/fonts: caching, new cache contents: 0 fonts, 0 dirs\n",
            "/root/.local/share/fonts: skipping, no such directory\n",
            "/root/.fonts: skipping, no such directory\n",
            "/usr/share/fonts/truetype: skipping, looped directory detected\n",
            "/usr/share/fonts/truetype/humor-sans: skipping, looped directory detected\n",
            "/usr/share/fonts/truetype/liberation: skipping, looped directory detected\n",
            "/usr/share/fonts/truetype/nanum: skipping, looped directory detected\n",
            "/var/cache/fontconfig: cleaning cache directory\n",
            "/root/.cache/fontconfig: not cleaning non-existent cache directory\n",
            "/root/.fontconfig: not cleaning non-existent cache directory\n",
            "fc-cache: succeeded\n"
          ]
        }
      ]
    },
    {
      "cell_type": "markdown",
      "source": [
        "그래프화"
      ],
      "metadata": {
        "id": "ueEHpLXas18Y"
      }
    },
    {
      "cell_type": "code",
      "source": [
        "import json\n",
        "import matplotlib.pyplot as plt\n",
        "\n",
        "plt.rc('font', family='NanumBarunGothic')\n",
        "\n",
        "# json 파일 읽기\n",
        "with open('player_mentions.json', 'r', encoding='utf8') as file:\n",
        "    article_count = json.load(file)\n",
        "\n",
        "# 한 플롯에 모든 선수의 그래프 그리기\n",
        "plt.figure(figsize=(10, 5))\n",
        "\n",
        "for player, counts in article_count.items():\n",
        "    # 월별 기사 언급 횟수를 리스트로 변환\n",
        "    mentions = [counts.get(str(month), 0) for month in range(3, 12)]\n",
        "    # 그래프 그리기\n",
        "    plt.plot(range(3, 12), mentions, label=player)\n",
        "\n",
        "plt.title('Number of Mentions by Month')\n",
        "plt.xlabel('Month')\n",
        "plt.ylabel('Number of Mentions')\n",
        "plt.legend(loc='upper right')\n",
        "plt.show()\n"
      ],
      "metadata": {
        "colab": {
          "base_uri": "https://localhost:8080/",
          "height": 479
        },
        "id": "SpYMAqg0s3Jz",
        "outputId": "5fbebc4e-1699-4a00-d764-ed042b300121"
      },
      "execution_count": 2,
      "outputs": [
        {
          "output_type": "display_data",
          "data": {
            "text/plain": [
              "<Figure size 1000x500 with 1 Axes>"
            ],
            "image/png": "[encoded data removed]"
          },
          "metadata": {}
        }
      ]
    },
    {
      "cell_type": "markdown",
      "source": [
        "#월 별 투수/타자 순위 1위(기록) 분석\n",
        "KBO 선수 순위 크롤링\n",
        "\n",
        "https://www.koreabaseball.com/Record/Ranking/Month.aspx#none"
      ],
      "metadata": {
        "id": "szYti7oatqZS"
      }
    },
    {
      "cell_type": "markdown",
      "source": [
        "selenium 설치"
      ],
      "metadata": {
        "id": "w7Q0IKRkwYmB"
      }
    },
    {
      "cell_type": "code",
      "source": [
        "!pip install selenium"
      ],
      "metadata": {
        "id": "EEC-HiV0wRqN",
        "outputId": "0f7ccdfb-04a6-4769-a07e-e3091949444c",
        "colab": {
          "base_uri": "https://localhost:8080/"
        }
      },
      "execution_count": 5,
      "outputs": [
        {
          "output_type": "stream",
          "name": "stdout",
          "text": [
            "Collecting selenium\n",
            "  Downloading selenium-4.15.2-py3-none-any.whl (10.2 MB)\n",
            "\u001b[2K     \u001b[90m━━━━━━━━━━━━━━━━━━━━━━━━━━━━━━━━━━━━━━━━\u001b[0m \u001b[32m10.2/10.2 MB\u001b[0m \u001b[31m54.7 MB/s\u001b[0m eta \u001b[36m0:00:00\u001b[0m\n",
            "\u001b[?25hRequirement already satisfied: urllib3[socks]<3,>=1.26 in /usr/local/lib/python3.10/dist-packages (from selenium) (2.0.7)\n",
            "Collecting trio~=0.17 (from selenium)\n",
            "  Downloading trio-0.23.1-py3-none-any.whl (448 kB)\n",
            "\u001b[2K     \u001b[90m━━━━━━━━━━━━━━━━━━━━━━━━━━━━━━━━━━━━━━━━\u001b[0m \u001b[32m448.3/448.3 kB\u001b[0m \u001b[31m36.6 MB/s\u001b[0m eta \u001b[36m0:00:00\u001b[0m\n",
            "\u001b[?25hCollecting trio-websocket~=0.9 (from selenium)\n",
            "  Downloading trio_websocket-0.11.1-py3-none-any.whl (17 kB)\n",
            "Requirement already satisfied: certifi>=2021.10.8 in /usr/local/lib/python3.10/dist-packages (from selenium) (2023.7.22)\n",
            "Requirement already satisfied: attrs>=20.1.0 in /usr/local/lib/python3.10/dist-packages (from trio~=0.17->selenium) (23.1.0)\n",
            "Requirement already satisfied: sortedcontainers in /usr/local/lib/python3.10/dist-packages (from trio~=0.17->selenium) (2.4.0)\n",
            "Requirement already satisfied: idna in /usr/local/lib/python3.10/dist-packages (from trio~=0.17->selenium) (3.4)\n",
            "Collecting outcome (from trio~=0.17->selenium)\n",
            "  Downloading outcome-1.3.0.post0-py2.py3-none-any.whl (10 kB)\n",
            "Requirement already satisfied: sniffio>=1.3.0 in /usr/local/lib/python3.10/dist-packages (from trio~=0.17->selenium) (1.3.0)\n",
            "Requirement already satisfied: exceptiongroup>=1.0.0rc9 in /usr/local/lib/python3.10/dist-packages (from trio~=0.17->selenium) (1.1.3)\n",
            "Collecting wsproto>=0.14 (from trio-websocket~=0.9->selenium)\n",
            "  Downloading wsproto-1.2.0-py3-none-any.whl (24 kB)\n",
            "Requirement already satisfied: pysocks!=1.5.7,<2.0,>=1.5.6 in /usr/local/lib/python3.10/dist-packages (from urllib3[socks]<3,>=1.26->selenium) (1.7.1)\n",
            "Collecting h11<1,>=0.9.0 (from wsproto>=0.14->trio-websocket~=0.9->selenium)\n",
            "  Downloading h11-0.14.0-py3-none-any.whl (58 kB)\n",
            "\u001b[2K     \u001b[90m━━━━━━━━━━━━━━━━━━━━━━━━━━━━━━━━━━━━━━━━\u001b[0m \u001b[32m58.3/58.3 kB\u001b[0m \u001b[31m8.0 MB/s\u001b[0m eta \u001b[36m0:00:00\u001b[0m\n",
            "\u001b[?25hInstalling collected packages: outcome, h11, wsproto, trio, trio-websocket, selenium\n",
            "Successfully installed h11-0.14.0 outcome-1.3.0.post0 selenium-4.15.2 trio-0.23.1 trio-websocket-0.11.1 wsproto-1.2.0\n"
          ]
        }
      ]
    },
    {
      "cell_type": "code",
      "source": [
        "from selenium import webdriver\n",
        "from bs4 import BeautifulSoup\n",
        "import time\n",
        "\n",
        "# 웹 드라이버 설정\n",
        "driver = webdriver.Chrome('\"C:/chromedriver-119/chromedriver.exe\"')\n",
        "\n",
        "# 웹 페이지 접근\n",
        "driver.get('https://www.koreabaseball.com/Record/Ranking/Month.aspx#none')\n",
        "\n",
        "# 페이지 로딩 대기\n",
        "time.sleep(3)\n",
        "\n",
        "# BeautifulSoup 객체 생성\n",
        "soup = BeautifulSoup(driver.page_source, 'html.parser')\n",
        "\n",
        "# 월별 순위 테이블 선택\n",
        "table = soup.find('table', {'class': 'tData01 tt'})\n",
        "\n",
        "# 테이블 헤더 추출\n",
        "headers = [header.text for header in table.find_all('th')]\n",
        "\n",
        "# 테이블 데이터 추출\n",
        "rows = table.find_all('tr')\n",
        "data = []\n",
        "for row in rows[1:]:\n",
        "    cols = row.find_all('td')\n",
        "    cols = [col.text.strip() for col in cols]\n",
        "    data.append(cols)\n",
        "\n",
        "# 결과 출력\n",
        "for item in data:\n",
        "    print(item)\n",
        "\n",
        "# 웹 드라이버 종료\n",
        "driver.quit()\n"
      ],
      "metadata": {
        "id": "ZcoGgoHqtqL2",
        "outputId": "f06f3db7-b5f5-44bf-dfc3-7e75f2361995",
        "colab": {
          "base_uri": "https://localhost:8080/",
          "height": 465
        }
      },
      "execution_count": 6,
      "outputs": [
        {
          "output_type": "error",
          "ename": "AttributeError",
          "evalue": "ignored",
          "traceback": [
            "\u001b[0;31m---------------------------------------------------------------------------\u001b[0m",
            "\u001b[0;31mAttributeError\u001b[0m                            Traceback (most recent call last)",
            "\u001b[0;32m/usr/local/lib/python3.10/dist-packages/selenium/webdriver/common/driver_finder.py\u001b[0m in \u001b[0;36mget_path\u001b[0;34m(service, options)\u001b[0m\n\u001b[1;32m     37\u001b[0m         \u001b[0;32mtry\u001b[0m\u001b[0;34m:\u001b[0m\u001b[0;34m\u001b[0m\u001b[0;34m\u001b[0m\u001b[0m\n\u001b[0;32m---> 38\u001b[0;31m             \u001b[0mpath\u001b[0m \u001b[0;34m=\u001b[0m \u001b[0mSeleniumManager\u001b[0m\u001b[0;34m(\u001b[0m\u001b[0;34m)\u001b[0m\u001b[0;34m.\u001b[0m\u001b[0mdriver_location\u001b[0m\u001b[0;34m(\u001b[0m\u001b[0moptions\u001b[0m\u001b[0;34m)\u001b[0m \u001b[0;32mif\u001b[0m \u001b[0mpath\u001b[0m \u001b[0;32mis\u001b[0m \u001b[0;32mNone\u001b[0m \u001b[0;32melse\u001b[0m \u001b[0mpath\u001b[0m\u001b[0;34m\u001b[0m\u001b[0;34m\u001b[0m\u001b[0m\n\u001b[0m\u001b[1;32m     39\u001b[0m         \u001b[0;32mexcept\u001b[0m \u001b[0mException\u001b[0m \u001b[0;32mas\u001b[0m \u001b[0merr\u001b[0m\u001b[0;34m:\u001b[0m\u001b[0;34m\u001b[0m\u001b[0;34m\u001b[0m\u001b[0m\n",
            "\u001b[0;32m/usr/local/lib/python3.10/dist-packages/selenium/webdriver/common/selenium_manager.py\u001b[0m in \u001b[0;36mdriver_location\u001b[0;34m(self, options)\u001b[0m\n\u001b[1;32m     74\u001b[0m \u001b[0;34m\u001b[0m\u001b[0m\n\u001b[0;32m---> 75\u001b[0;31m         \u001b[0mbrowser\u001b[0m \u001b[0;34m=\u001b[0m \u001b[0moptions\u001b[0m\u001b[0;34m.\u001b[0m\u001b[0mcapabilities\u001b[0m\u001b[0;34m[\u001b[0m\u001b[0;34m\"browserName\"\u001b[0m\u001b[0;34m]\u001b[0m\u001b[0;34m\u001b[0m\u001b[0;34m\u001b[0m\u001b[0m\n\u001b[0m\u001b[1;32m     76\u001b[0m \u001b[0;34m\u001b[0m\u001b[0m\n",
            "\u001b[0;31mAttributeError\u001b[0m: 'str' object has no attribute 'capabilities'",
            "\nDuring handling of the above exception, another exception occurred:\n",
            "\u001b[0;31mAttributeError\u001b[0m                            Traceback (most recent call last)",
            "\u001b[0;32m<ipython-input-6-f1b9a68d749d>\u001b[0m in \u001b[0;36m<cell line: 6>\u001b[0;34m()\u001b[0m\n\u001b[1;32m      4\u001b[0m \u001b[0;34m\u001b[0m\u001b[0m\n\u001b[1;32m      5\u001b[0m \u001b[0;31m# 웹 드라이버 설정\u001b[0m\u001b[0;34m\u001b[0m\u001b[0;34m\u001b[0m\u001b[0m\n\u001b[0;32m----> 6\u001b[0;31m \u001b[0mdriver\u001b[0m \u001b[0;34m=\u001b[0m \u001b[0mwebdriver\u001b[0m\u001b[0;34m.\u001b[0m\u001b[0mChrome\u001b[0m\u001b[0;34m(\u001b[0m\u001b[0;34m'\"C:/chromedriver-119/chromedriver.exe\"'\u001b[0m\u001b[0;34m)\u001b[0m\u001b[0;34m\u001b[0m\u001b[0;34m\u001b[0m\u001b[0m\n\u001b[0m\u001b[1;32m      7\u001b[0m \u001b[0;34m\u001b[0m\u001b[0m\n\u001b[1;32m      8\u001b[0m \u001b[0;31m# 웹 페이지 접근\u001b[0m\u001b[0;34m\u001b[0m\u001b[0;34m\u001b[0m\u001b[0m\n",
            "\u001b[0;32m/usr/local/lib/python3.10/dist-packages/selenium/webdriver/chrome/webdriver.py\u001b[0m in \u001b[0;36m__init__\u001b[0;34m(self, options, service, keep_alive)\u001b[0m\n\u001b[1;32m     43\u001b[0m         \u001b[0moptions\u001b[0m \u001b[0;34m=\u001b[0m \u001b[0moptions\u001b[0m \u001b[0;32mif\u001b[0m \u001b[0moptions\u001b[0m \u001b[0;32melse\u001b[0m \u001b[0mOptions\u001b[0m\u001b[0;34m(\u001b[0m\u001b[0;34m)\u001b[0m\u001b[0;34m\u001b[0m\u001b[0;34m\u001b[0m\u001b[0m\n\u001b[1;32m     44\u001b[0m \u001b[0;34m\u001b[0m\u001b[0m\n\u001b[0;32m---> 45\u001b[0;31m         super().__init__(\n\u001b[0m\u001b[1;32m     46\u001b[0m             \u001b[0mDesiredCapabilities\u001b[0m\u001b[0;34m.\u001b[0m\u001b[0mCHROME\u001b[0m\u001b[0;34m[\u001b[0m\u001b[0;34m\"browserName\"\u001b[0m\u001b[0;34m]\u001b[0m\u001b[0;34m,\u001b[0m\u001b[0;34m\u001b[0m\u001b[0;34m\u001b[0m\u001b[0m\n\u001b[1;32m     47\u001b[0m             \u001b[0;34m\"goog\"\u001b[0m\u001b[0;34m,\u001b[0m\u001b[0;34m\u001b[0m\u001b[0;34m\u001b[0m\u001b[0m\n",
            "\u001b[0;32m/usr/local/lib/python3.10/dist-packages/selenium/webdriver/chromium/webdriver.py\u001b[0m in \u001b[0;36m__init__\u001b[0;34m(self, browser_name, vendor_prefix, options, service, keep_alive)\u001b[0m\n\u001b[1;32m     49\u001b[0m         \u001b[0mself\u001b[0m\u001b[0;34m.\u001b[0m\u001b[0mservice\u001b[0m \u001b[0;34m=\u001b[0m \u001b[0mservice\u001b[0m\u001b[0;34m\u001b[0m\u001b[0;34m\u001b[0m\u001b[0m\n\u001b[1;32m     50\u001b[0m \u001b[0;34m\u001b[0m\u001b[0m\n\u001b[0;32m---> 51\u001b[0;31m         \u001b[0mself\u001b[0m\u001b[0;34m.\u001b[0m\u001b[0mservice\u001b[0m\u001b[0;34m.\u001b[0m\u001b[0mpath\u001b[0m \u001b[0;34m=\u001b[0m \u001b[0mDriverFinder\u001b[0m\u001b[0;34m.\u001b[0m\u001b[0mget_path\u001b[0m\u001b[0;34m(\u001b[0m\u001b[0mself\u001b[0m\u001b[0;34m.\u001b[0m\u001b[0mservice\u001b[0m\u001b[0;34m,\u001b[0m \u001b[0moptions\u001b[0m\u001b[0;34m)\u001b[0m\u001b[0;34m\u001b[0m\u001b[0;34m\u001b[0m\u001b[0m\n\u001b[0m\u001b[1;32m     52\u001b[0m \u001b[0;34m\u001b[0m\u001b[0m\n\u001b[1;32m     53\u001b[0m         \u001b[0mself\u001b[0m\u001b[0;34m.\u001b[0m\u001b[0mservice\u001b[0m\u001b[0;34m.\u001b[0m\u001b[0mstart\u001b[0m\u001b[0;34m(\u001b[0m\u001b[0;34m)\u001b[0m\u001b[0;34m\u001b[0m\u001b[0;34m\u001b[0m\u001b[0m\n",
            "\u001b[0;32m/usr/local/lib/python3.10/dist-packages/selenium/webdriver/common/driver_finder.py\u001b[0m in \u001b[0;36mget_path\u001b[0;34m(service, options)\u001b[0m\n\u001b[1;32m     38\u001b[0m             \u001b[0mpath\u001b[0m \u001b[0;34m=\u001b[0m \u001b[0mSeleniumManager\u001b[0m\u001b[0;34m(\u001b[0m\u001b[0;34m)\u001b[0m\u001b[0;34m.\u001b[0m\u001b[0mdriver_location\u001b[0m\u001b[0;34m(\u001b[0m\u001b[0moptions\u001b[0m\u001b[0;34m)\u001b[0m \u001b[0;32mif\u001b[0m \u001b[0mpath\u001b[0m \u001b[0;32mis\u001b[0m \u001b[0;32mNone\u001b[0m \u001b[0;32melse\u001b[0m \u001b[0mpath\u001b[0m\u001b[0;34m\u001b[0m\u001b[0;34m\u001b[0m\u001b[0m\n\u001b[1;32m     39\u001b[0m         \u001b[0;32mexcept\u001b[0m \u001b[0mException\u001b[0m \u001b[0;32mas\u001b[0m \u001b[0merr\u001b[0m\u001b[0;34m:\u001b[0m\u001b[0;34m\u001b[0m\u001b[0;34m\u001b[0m\u001b[0m\n\u001b[0;32m---> 40\u001b[0;31m             \u001b[0mmsg\u001b[0m \u001b[0;34m=\u001b[0m \u001b[0;34mf\"Unable to obtain driver for {options.capabilities['browserName']} using Selenium Manager.\"\u001b[0m\u001b[0;34m\u001b[0m\u001b[0;34m\u001b[0m\u001b[0m\n\u001b[0m\u001b[1;32m     41\u001b[0m             \u001b[0;32mraise\u001b[0m \u001b[0mNoSuchDriverException\u001b[0m\u001b[0;34m(\u001b[0m\u001b[0mmsg\u001b[0m\u001b[0;34m)\u001b[0m \u001b[0;32mfrom\u001b[0m \u001b[0merr\u001b[0m\u001b[0;34m\u001b[0m\u001b[0;34m\u001b[0m\u001b[0m\n\u001b[1;32m     42\u001b[0m \u001b[0;34m\u001b[0m\u001b[0m\n",
            "\u001b[0;31mAttributeError\u001b[0m: 'str' object has no attribute 'capabilities'"
          ]
        }
      ]
    }
  ]
}